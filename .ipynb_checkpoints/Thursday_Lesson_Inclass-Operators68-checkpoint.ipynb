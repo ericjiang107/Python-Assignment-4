{
 "cells": [
  {
   "cell_type": "markdown",
   "metadata": {},
   "source": [
    "# Object-Oriented-Programming (OOP)"
   ]
  },
  {
   "cell_type": "markdown",
   "metadata": {},
   "source": [
    "## Tasks Today:\n",
    "\n",
    "   \n",
    "\n",
    "1) <b>Creating a Class (Initializing/Declaring)</b> <br>\n",
    "2) <b>Using a Class (Instantiating)</b> <br>\n",
    " &nbsp;&nbsp;&nbsp;&nbsp; a) Creating One Instance <br>\n",
    " &nbsp;&nbsp;&nbsp;&nbsp; b) Creating Multiple Instances <br>\n",
    " &nbsp;&nbsp;&nbsp;&nbsp; c) In-Class Exercise #1 - Create a Class 'Car' and instantiate three different makes of cars <br>\n",
    "3) <b>The \\__init\\__() Method</b> <br>\n",
    " &nbsp;&nbsp;&nbsp;&nbsp; a) The 'self' Attribute <br>\n",
    "4) <b>Class Attributes</b> <br>\n",
    " &nbsp;&nbsp;&nbsp;&nbsp; a) Initializing Attributes <br>\n",
    " &nbsp;&nbsp;&nbsp;&nbsp; b) Setting an Attribute Outside of the \\__init\\__() Method <br>\n",
    " &nbsp;&nbsp;&nbsp;&nbsp; c) Setting Defaults for Attributes <br>\n",
    " &nbsp;&nbsp;&nbsp;&nbsp; d) Accessing Class Attributes <br>\n",
    " &nbsp;&nbsp;&nbsp;&nbsp; e) Changing Class Attributes <br>\n",
    " &nbsp;&nbsp;&nbsp;&nbsp; f) In-Class Exercise #2 - Add a color and wheels attribute to your 'Car' class <br>\n",
    "5) <b>Class Methods</b> <br>\n",
    " &nbsp;&nbsp;&nbsp;&nbsp; a) Creating <br>\n",
    " &nbsp;&nbsp;&nbsp;&nbsp; b) Calling <br>\n",
    " &nbsp;&nbsp;&nbsp;&nbsp; c) Modifying an Attribute's Value Through a Method <br>\n",
    " &nbsp;&nbsp;&nbsp;&nbsp; d) Incrementing an Attribute's Value Through a Method <br>\n",
    " &nbsp;&nbsp;&nbsp;&nbsp; e) In-Class Exercise #3 - Add a method that prints the cars color and wheel number, then call them <br>\n",
    "6) <b>Inheritance</b> <br>\n",
    " &nbsp;&nbsp;&nbsp;&nbsp; a) Syntax for Inheriting from a Parent Class <br>\n",
    " &nbsp;&nbsp;&nbsp;&nbsp; b) The \\__init\\__() Method for a Child Class (super()) <br>\n",
    " &nbsp;&nbsp;&nbsp;&nbsp; c) Defining Attributes and Methods for the Child Class <br>\n",
    " &nbsp;&nbsp;&nbsp;&nbsp; d) Method Overriding <br>\n",
    " &nbsp;&nbsp;&nbsp;&nbsp; e) In-Class Exercise #4 - Create a class 'Ford' that inherits from 'Car' class and initialize it as a Blue Ford Explorer with 4 wheels using the super() method <br>\n",
    "7) <b>Classes as Attributes</b> <br>\n",
    "8) <b>Exercises</b> <br>\n",
    " &nbsp;&nbsp;&nbsp;&nbsp; a) Exercise #1 - Turn the shopping cart program from yesterday into an object-oriented program <br>"
   ]
  },
  {
   "cell_type": "code",
   "execution_count": 1,
   "metadata": {},
   "outputs": [],
   "source": [
    "# Reference point for the shopping cart in a list"
   ]
  },
  {
   "cell_type": "code",
   "execution_count": 2,
   "metadata": {},
   "outputs": [
    {
     "name": "stdout",
     "output_type": "stream",
     "text": [
      "What would you like to do? Add / remove / show / clear your cart: quit\n",
      "Thanks for shopping with us!\n",
      "Here is your cart...\n"
     ]
    }
   ],
   "source": [
    "# from IPython.display import clear_output\n",
    "\n",
    "# cart = []\n",
    "\n",
    "# # if someone wants to add --> append (this is its own function)\n",
    "# def addItem(item):\n",
    "#     clear_output() # Clears the output/result at the end so only one gets printed\n",
    "#     cart.append(item)\n",
    "\n",
    "# # Remove from cart \n",
    "# def removeItem(item):\n",
    "#     clear_output()\n",
    "#     cart.remove(item)\n",
    "\n",
    "# # Show cart\n",
    "# def showCart():\n",
    "#     print(\"Here is your cart...\")\n",
    "#     for item in cart: # loop through the cart to print the items\n",
    "#         print(item)\n",
    "        \n",
    "# # Clear cart\n",
    "# def clearCart():\n",
    "#     print(\"Your cart is now empty...\")\n",
    "#     cart.clear() # clears the entire cart\n",
    "    \n",
    "\n",
    "# # Program utilizing prebuilt functionality\n",
    "# def shoppingCart():\n",
    "#     while True:\n",
    "#         response = input(\"What would you like to do? Add / remove / show / clear your cart: \")\n",
    "#         if response.lower() == \"quit\":\n",
    "#             print(\"Thanks for shopping with us!\")\n",
    "#             # show cart function\n",
    "#             showCart()\n",
    "#             break\n",
    "#         elif response.lower() == 'add':\n",
    "#             item_resp = input(\"What would you like to add?\")\n",
    "#             # calling the additem function\n",
    "#             addItem(item_resp)\n",
    "#         elif response.lower() == \"remove\":\n",
    "#             showCart()\n",
    "#             remove_resp = input(\"What do you wanna remove? \")\n",
    "#             # calling the remove function \n",
    "#             removeItem(remove_resp)\n",
    "#         elif response.lower() == \"show\": \n",
    "#             showCart()\n",
    "#         elif response.lower() == \"clear\":\n",
    "#             clearCart()\n",
    "#         else: # accounting for errors in response\n",
    "#             print(\"Sorry not a valid response...\")\n",
    "\n",
    "# shoppingCart()\n",
    "\n",
    "# a lot easier to debug and call on the function\n",
    "        \n",
    "        \n",
    "        \n",
    "        \n",
    "# Testing the following\n",
    "# addItem('apple')\n",
    "# addItem(\"bread\")\n",
    "# addItem(\"water\")\n",
    "# print(cart)\n",
    "# removeItem('apple')\n",
    "# print(cart)\n",
    "# showCart()\n",
    "# clearCart()\n",
    "# showCart()\n",
    "\n",
    "\n",
    "\n",
    "\n",
    "from IPython.display import clear_output\n",
    "\n",
    "cart = []\n",
    "\n",
    "# Adding Item to cart\n",
    "\n",
    "def addItem(item):\n",
    "    clear_output()\n",
    "    cart.append(item)\n",
    "\n",
    "\n",
    "# Remove from cart\n",
    "def removeItem(item):\n",
    "    clear_output()\n",
    "    cart.remove(item)\n",
    "\n",
    "    \n",
    "# Show Cart\n",
    "def showCart():\n",
    "    print(\"Here is your cart...\")\n",
    "    for item in cart:\n",
    "        print(item)\n",
    "\n",
    "\n",
    "# Clear Cart\n",
    "def clearCart():\n",
    "    print('Your cart is now empty...')\n",
    "    cart.clear()\n",
    "    \n",
    "    \n",
    "\n",
    "# Program utilizing pre-built functionality\n",
    "def shoppingCart():\n",
    "    while True:\n",
    "        response = input(\"What would you like to do? Add / remove / show / clear your cart: \")\n",
    "        if response.lower() == 'quit':\n",
    "            print('Thanks for shopping with us!')\n",
    "            showCart()\n",
    "            break\n",
    "        elif response.lower() == 'add':\n",
    "            item_resp = input('What would you like to add?')\n",
    "            addItem(item_resp)\n",
    "        elif response.lower() == 'remove':\n",
    "            showCart()\n",
    "            remove_resp = input(\"What do you wanna remove? \")\n",
    "            removeItem(remove_resp)\n",
    "        elif response.lower() == 'show':\n",
    "            showCart()\n",
    "        elif response.lower() == 'clear':\n",
    "            clearCart()\n",
    "        else:\n",
    "            print('Sorry not a valid reponse...')\n",
    "shoppingCart()"
   ]
  },
  {
   "cell_type": "markdown",
   "metadata": {},
   "source": [
    "## Creating a Class (Initializing/Declaring)\n",
    "<p>When creating a class, function, or even a variable you are initializing that object. Initializing and Declaring occur at the same time in Python, whereas in lower level languages you have to declare an object before initializing it. This is the first step in the process of using a class.</p>"
   ]
  },
  {
   "cell_type": "code",
   "execution_count": 3,
   "metadata": {},
   "outputs": [],
   "source": [
    "# class Car: OR class Car():\n",
    "\n",
    "class Car(): # Basically every car should have 4 wheels and are blue, known as attributes\n",
    "    wheels = 4\n",
    "    color = 'blue'"
   ]
  },
  {
   "cell_type": "markdown",
   "metadata": {},
   "source": [
    "## Using a Class (Instantiating)\n",
    "<p>The process of creating a class is called <i>Instantiating</i>. Each time you create a variable of that type of class, it is referred to as an <i>Instance</i> of that class. This is the second step in the process of using a class.</p>"
   ]
  },
  {
   "cell_type": "markdown",
   "metadata": {},
   "source": [
    "##### Creating One Instance"
   ]
  },
  {
   "cell_type": "code",
   "execution_count": 4,
   "metadata": {},
   "outputs": [
    {
     "name": "stdout",
     "output_type": "stream",
     "text": [
      "<__main__.Car object at 0x000001E4F95F6BE0>\n",
      "4\n",
      "blue\n"
     ]
    }
   ],
   "source": [
    "ford = Car()\n",
    "print(ford)\n",
    "\n",
    "print(ford.wheels) # --> looking into the class for specific wheels or color\n",
    "print(ford.color)"
   ]
  },
  {
   "cell_type": "markdown",
   "metadata": {},
   "source": [
    "##### Creating Multiple Instances"
   ]
  },
  {
   "cell_type": "code",
   "execution_count": 5,
   "metadata": {},
   "outputs": [
    {
     "name": "stdout",
     "output_type": "stream",
     "text": [
      "<__main__.Car object at 0x000001E4F9626CA0>\n",
      "<__main__.Car object at 0x000001E4F951AA90>\n",
      "4\n",
      "blue\n"
     ]
    }
   ],
   "source": [
    "chevy = Car() # very important to be able to call on the attributes of class \n",
    "honda = Car()\n",
    "lambo = Car()\n",
    "\n",
    "print(lambo) # own attributes, taking on the attributes of the car class \n",
    "print(chevy)\n",
    "\n",
    "print(lambo.wheels)\n",
    "print(chevy.color)"
   ]
  },
  {
   "cell_type": "markdown",
   "metadata": {},
   "source": [
    "##### In-Class Exercise #1 - Create a Class 'Car' and Instantiate three different makes of cars"
   ]
  },
  {
   "cell_type": "code",
   "execution_count": 6,
   "metadata": {},
   "outputs": [
    {
     "name": "stdout",
     "output_type": "stream",
     "text": [
      "4\n",
      "red\n",
      "True\n"
     ]
    }
   ],
   "source": [
    "# Create a new Car class with doors, colors, wheels, sunroof = True/False and instantiating 3 different models\n",
    "\n",
    "class Car():\n",
    "    wheels = 4\n",
    "    color = \"red\"\n",
    "    doors = 4\n",
    "    sunroof = True # Can also be false \n",
    "    \n",
    "chevy = Car() \n",
    "honda = Car()\n",
    "tesla = Car()\n",
    "\n",
    "print(tesla.wheels)\n",
    "print(honda.color)\n",
    "print(chevy.sunroof)"
   ]
  },
  {
   "cell_type": "markdown",
   "metadata": {},
   "source": [
    "## The \\__init\\__() Method <br>\n",
    "<p>This method is used in almost every created class, and called only once upon the creation of the class instance. This method will initialize all variables needed for the object.</p>"
   ]
  },
  {
   "cell_type": "code",
   "execution_count": 7,
   "metadata": {},
   "outputs": [
    {
     "name": "stdout",
     "output_type": "stream",
     "text": [
      "1\n",
      "18\n",
      "{'rooftop': 3, 'horn': 3, 'wheels': 18}\n"
     ]
    }
   ],
   "source": [
    "# 'dunder' double underscore init double underscore --> (__init__()) --> The _ is two of them together \n",
    "\n",
    "class Toy():\n",
    "    kind = \"Car\" # all toys to have the attribute \"kind\"\n",
    "    # each toy must have a rooftop, wheels, and horns\n",
    "    \n",
    "# allow the values to be stores in \"self\"\n",
    "    def __init__(self, rooftop, horn, wheels):\n",
    "        self.rooftop = rooftop\n",
    "        self.horn = horn\n",
    "        self.wheels = wheels\n",
    "        \n",
    "# hotwheels = Toy() \n",
    "# won't work because it is missing 3 additional arguments\n",
    "\n",
    "hotwheels = Toy(1, 1, 4) # Gives hotwheels 1 rooftop, 1 horn, and 4 wheels \n",
    "tonka = Toy(3, 3, 18)\n",
    "\n",
    "print(hotwheels.rooftop) # shows rooftop = 1\n",
    "print(tonka.wheels)\n",
    "\n",
    "# to print all attributes: \n",
    "print(tonka.__dict__)\n",
    "# __dict__ shows all attributes"
   ]
  },
  {
   "cell_type": "markdown",
   "metadata": {},
   "source": [
    "##### The 'self' Attribute <br>\n",
    "<p>This attribute is required to keep track of specific instance's attributes. Without the self attribute, the program would not know how to reference or keep track of an instance's attributes.</p>"
   ]
  },
  {
   "cell_type": "code",
   "execution_count": 8,
   "metadata": {},
   "outputs": [],
   "source": [
    "# see above"
   ]
  },
  {
   "cell_type": "markdown",
   "metadata": {},
   "source": [
    "## Class Attributes <br>\n",
    "<p>While variables are inside of a class, they are referred to as attributes and not variables. When someone says 'attribute' you know they're speaking about a class. Attributes can be initialized through the init method, or outside of it.</p>"
   ]
  },
  {
   "cell_type": "markdown",
   "metadata": {},
   "source": [
    "##### Initializing Attributes"
   ]
  },
  {
   "cell_type": "code",
   "execution_count": 9,
   "metadata": {},
   "outputs": [],
   "source": [
    "# see above"
   ]
  },
  {
   "cell_type": "markdown",
   "metadata": {},
   "source": [
    "##### Accessing Class Attributes"
   ]
  },
  {
   "cell_type": "code",
   "execution_count": 10,
   "metadata": {
    "scrolled": true
   },
   "outputs": [
    {
     "name": "stdout",
     "output_type": "stream",
     "text": [
      "1\n",
      "1\n",
      "4\n"
     ]
    }
   ],
   "source": [
    "tonka = Toy(1, 1, 4)\n",
    "\n",
    "print(tonka.rooftop)\n",
    "print(tonka.horn)\n",
    "print(tonka.wheels)"
   ]
  },
  {
   "cell_type": "markdown",
   "metadata": {},
   "source": [
    "##### Setting Defaults for Attributes"
   ]
  },
  {
   "cell_type": "code",
   "execution_count": 11,
   "metadata": {
    "scrolled": true
   },
   "outputs": [
    {
     "name": "stdout",
     "output_type": "stream",
     "text": [
      "Black\n"
     ]
    }
   ],
   "source": [
    "class Human():\n",
    "    def __init__(self, eyes, height, active, hair = \"Brown\"): # active is True or False\n",
    "        self.eyes = eyes\n",
    "        self.height = height\n",
    "        self.active = active\n",
    "        self.hair = hair # if there is no attribute that defines hair, we automatically assume hair is hair\n",
    "        \n",
    "nate = Human('blue', '6ft 1in', True)\n",
    "Julia = Human('brown', '5ft 2in', True, 'Black')\n",
    "\n",
    "print(Julia.hair)"
   ]
  },
  {
   "cell_type": "markdown",
   "metadata": {},
   "source": [
    "##### Changing Class Attributes <br>\n",
    "<p>Keep in mind there are global class attributes and then there are attributes only available to each class instance which won't effect other classes.</p>"
   ]
  },
  {
   "cell_type": "code",
   "execution_count": 12,
   "metadata": {},
   "outputs": [
    {
     "name": "stdout",
     "output_type": "stream",
     "text": [
      "BEFORE attribute change: Black\n",
      "AFTER attribute change: Blonde\n"
     ]
    }
   ],
   "source": [
    "# Changing the attribute \n",
    "\n",
    "print(f'BEFORE attribute change: {Julia.hair}')\n",
    "\n",
    "Julia.hair = \"Blonde\"\n",
    "\n",
    "print(f'AFTER attribute change: {Julia.hair}')"
   ]
  },
  {
   "cell_type": "code",
   "execution_count": null,
   "metadata": {},
   "outputs": [],
   "source": []
  },
  {
   "cell_type": "markdown",
   "metadata": {},
   "source": [
    "##### In-Class Exercise #2 - Add a doors and seats attribute to your 'Car' class then print out two different instances with different doors and seats"
   ]
  },
  {
   "cell_type": "code",
   "execution_count": 13,
   "metadata": {},
   "outputs": [
    {
     "name": "stdout",
     "output_type": "stream",
     "text": [
      "4\n",
      "2\n",
      "5\n",
      "This car has: 4 doors and 5 seats\n",
      "This car has 2 doors and 5 seats!\n",
      "This car has 4 doors and 5 seats!\n"
     ]
    }
   ],
   "source": [
    "class Car():\n",
    "    def __init__(self, doors = 4, seats = 5):\n",
    "        self.doors = doors\n",
    "        self.seats = seats\n",
    "        \n",
    "    def printAttributes(self):\n",
    "        print(f'This car has {self.doors} doors and {self.seats} seats!')\n",
    "        \n",
    "bmw = Car(2) # reassigning a new attribute\n",
    "jeep = Car()\n",
    "\n",
    "print(jeep.doors)\n",
    "print(bmw.doors)\n",
    "print(bmw.seats)\n",
    "print(f'This car has: {jeep.doors} doors and {jeep.seats} seats')\n",
    "\n",
    "bmw.printAttributes()\n",
    "jeep.printAttributes()"
   ]
  },
  {
   "cell_type": "markdown",
   "metadata": {},
   "source": [
    "## Class Methods <br>\n",
    "<p>While inside of a class, functions are referred to as 'methods'. If you hear someone mention methods, they're speaking about classes. Methods are essentially functions, but only callable on the instances of a class.</p>"
   ]
  },
  {
   "cell_type": "markdown",
   "metadata": {},
   "source": [
    "##### Creating"
   ]
  },
  {
   "cell_type": "code",
   "execution_count": 37,
   "metadata": {},
   "outputs": [
    {
     "name": "stdout",
     "output_type": "stream",
     "text": [
      "Your current bag capacity is: 35\n"
     ]
    }
   ],
   "source": [
    "class ShoppingBag():\n",
    "    # Description of ShoppingBag\n",
    "    \"\"\"\n",
    "        The ShoppingBag Class will have handles, capacity, and items \n",
    "        to place inside.\n",
    "        \n",
    "        Attributes for class:\n",
    "        - handles: expected to be an integer\n",
    "        - capacity: expected to be a string or integer\n",
    "        - items: expected to be a list\n",
    "    \"\"\"\n",
    "    \n",
    "    def __init__(self, handles, capacity, items):\n",
    "        self.handles = handles\n",
    "        self.capacity = capacity\n",
    "        self.items = items\n",
    "    # Method to show all items in items list\n",
    "    def showShoppingBag(self):\n",
    "        print(\"Here are the tiems in your bag...\")\n",
    "        for item in self.items:\n",
    "            print(item)\n",
    "# Checking the items working for the for item in self.items function\n",
    "# nordstrom = ShoppingBag(2, 10, ['shirt', 'shoes', 'hat'])\n",
    "# nordstrom.showShoppingBag()\n",
    "\n",
    "    # Method to show capacity\n",
    "    def showCapacity(self):\n",
    "        print(f'Your current bag capacity is: {self.capacity}')\n",
    "              \n",
    "# Checking if the showCapacity function works\n",
    "# pascun = ShoppingBag(2,10,[])\n",
    "# print(pascun.showCapacity())\n",
    "\n",
    "    # Method to add items to bag\n",
    "    def addToShoppingBag(self):\n",
    "        product = input(\"What would you like to add? \") # since we are making the items part a list\n",
    "        self.items.append(product)\n",
    "        print(f'Success! Here is your new bag: {self.items}') #self.items refer to the instance at which the user add something new in\n",
    "\n",
    "# Checking if the addToShoppingBag function works\n",
    "# pascun = ShoppingBag(2,10,[])\n",
    "# pascun.addToShoppingBag()\n",
    "\n",
    "    # Method to change capacity dynamically\n",
    "    def changeCapacity(self, capacity):\n",
    "        self.capacity = capacity\n",
    "        \n",
    "# Checking if the changeCapacity function works\n",
    "# pascun = ShoppingBag(2,10,[])\n",
    "# pascun.changeCapacity(25) # needs a parameter since in the function, we declared a capacity value\n",
    "# pascun.showCapacity()\n",
    "\n",
    "    # Method to increase capacity of bag by 10\n",
    "    def increaseCapacity(self, changed_cap = 10):\n",
    "        if isinstance(self.capacity, str): # isinstance checks for boolean value --> in this case, we are testing for true for a string data type\n",
    "            print(\"Can't do that here...\") # Because we cannot take in a string\n",
    "        else: # For integer\n",
    "            self.capacity += 10\n",
    "\n",
    "# Checking if the increaseCapacity function works\n",
    "pascun = ShoppingBag(2,10,[]) # initially starts at 10\n",
    "pascun.changeCapacity(25) # value changes to 25\n",
    "pascun.increaseCapacity() # if no parameters are added in, we assume 10\n",
    "pascun.showCapacity()"
   ]
  },
  {
   "cell_type": "markdown",
   "metadata": {},
   "source": [
    "##### Calling"
   ]
  },
  {
   "cell_type": "code",
   "execution_count": 15,
   "metadata": {},
   "outputs": [
    {
     "name": "stdout",
     "output_type": "stream",
     "text": [
      "What do you want to do? add/show/quitquit\n",
      "Here are the tiems in your bag...\n",
      "Thank you for shopping at Whole Foods!\n"
     ]
    }
   ],
   "source": [
    "# See Above\n",
    "\n",
    "# Create a new instance of ShoppingBag\n",
    "# whole_foods = ShoppingBag(2,10,[])\n",
    "\n",
    "def run():\n",
    "    whole_foods = ShoppingBag(2,10,[]) # We want this in here because this should be our default, if it is outside, the cart values retain the previous added ones\n",
    "    while True:\n",
    "        response = input(\"What do you want to do? add/show/quit\")\n",
    "        if response.lower() == \"quit\":\n",
    "            whole_foods.showShoppingBag()\n",
    "            print(\"Thank you for shopping at Whole Foods!\")\n",
    "            break\n",
    "        elif response.lower() == \"add\":\n",
    "            whole_foods.addToShoppingBag()\n",
    "        elif response.lower() == \"show\":\n",
    "            whole_foods.showShoppingBag()\n",
    "        else:\n",
    "            print(\"Not a valid input -- please retry\")\n",
    "            \n",
    "run()"
   ]
  },
  {
   "cell_type": "markdown",
   "metadata": {},
   "source": [
    "##### Modifying an Attribute's Value Through a Method"
   ]
  },
  {
   "cell_type": "code",
   "execution_count": 16,
   "metadata": {},
   "outputs": [
    {
     "name": "stdout",
     "output_type": "stream",
     "text": [
      "Your current bag capacity is: 100\n",
      "Your current bag capacity is: 50\n"
     ]
    }
   ],
   "source": [
    "mcdonalds = ShoppingBag(2,100,[])\n",
    "mcdonalds.showCapacity()\n",
    "mcdonalds.changeCapacity(50)\n",
    "mcdonalds.showCapacity()"
   ]
  },
  {
   "cell_type": "markdown",
   "metadata": {},
   "source": [
    "##### Incrementing an Attribute's Value Through a Method"
   ]
  },
  {
   "cell_type": "code",
   "execution_count": 17,
   "metadata": {},
   "outputs": [
    {
     "name": "stdout",
     "output_type": "stream",
     "text": [
      "Your current bag capacity is: 60\n"
     ]
    }
   ],
   "source": [
    "mcdonalds.increaseCapacity()\n",
    "mcdonalds.showCapacity() # since we have += 10 in our code"
   ]
  },
  {
   "cell_type": "markdown",
   "metadata": {},
   "source": [
    "##### In-Class Exercise #3 - Add a method that takes in three parameters of year, doors and seats and prints out a formatted print statement with make, model, year, seats, and doors"
   ]
  },
  {
   "cell_type": "code",
   "execution_count": 18,
   "metadata": {},
   "outputs": [
    {
     "name": "stdout",
     "output_type": "stream",
     "text": [
      "This car is from 2021 and is a bmw M5 and has 4 doors and 5 seats\n"
     ]
    }
   ],
   "source": [
    "# Create class with 2 paramters inside of the __init__ which are make and model\n",
    "class Car():\n",
    "    def __init__(self, make, model):\n",
    "        self.make = make\n",
    "        self.model = model\n",
    "# Inside of the Car class create a method that has 4 parameter in total (self,year,door,seats)\n",
    "    def showCar(self, year, doors, seats):\n",
    "        print(f'This car is from {year} and is a {self.make} {self.model} and has {doors} doors and {seats} seats')\n",
    "# Output: This car is from 2019 and is a Ford Expolorer and has 4 doors and 5 seats\n",
    "\n",
    "bmw = Car(\"bmw\", \"M5\")\n",
    "bmw.showCar(2021, 4, 5)"
   ]
  },
  {
   "cell_type": "markdown",
   "metadata": {},
   "source": [
    "## Inheritance <br>\n",
    "<p>You can create a child-parent relationship between two classes by using inheritance. What this allows you to do is have overriding methods, but also inherit traits from the parent class. Think of it as an actual parent and child, the child will inherit the parent's genes, as will the classes in OOP</p>"
   ]
  },
  {
   "cell_type": "markdown",
   "metadata": {},
   "source": [
    "##### Syntax for Inheriting from a Parent Class"
   ]
  },
  {
   "cell_type": "code",
   "execution_count": 19,
   "metadata": {},
   "outputs": [
    {
     "name": "stdout",
     "output_type": "stream",
     "text": [
      "Make some Generic Sound\n",
      "This Dog has a speed of 15 and his name is Griffin\n"
     ]
    },
    {
     "data": {
      "text/plain": [
       "'Blue'"
      ]
     },
     "execution_count": 19,
     "metadata": {},
     "output_type": "execute_result"
    }
   ],
   "source": [
    "# Creation of our Parent Class -- Animal\n",
    "\n",
    "class Animal():\n",
    "    def __init__(self, name, species, legs = 4):\n",
    "        self.name = name\n",
    "        self.species = species\n",
    "        self.legs = legs\n",
    "    \n",
    "    # Generic Parent (Animal) Method - no override yet\n",
    "    def makeSound(self):\n",
    "        print(\"Make some Generic Sound\")\n",
    "        \n",
    "class Dog(Animal): # Dog to inherit the parent of Animal\n",
    "    speed = 15\n",
    "    \n",
    "    def printInfo(self):\n",
    "        print(f'This Dog has a speed of {self.speed} and his name is {self.name}')\n",
    "    \n",
    "# instantiate this\n",
    "griffin = Dog(\"Griffin\", \"Labrador\") # To fulfill the parameters of the Animal class\n",
    "\n",
    "griffin.makeSound()\n",
    "griffin.printInfo()\n",
    "\n",
    "\n",
    "# Grandchild class\n",
    "class Mutt(Dog): # inherits the traits from Dog while also inheriting the traits from Animal\n",
    "    def __init__(self, name, species, eye_color, legs = 4):\n",
    "        Dog.__init__(self, name, species, legs)\n",
    "        self.eye_color = eye_color\n",
    "        \n",
    "hank = Mutt(\"Hank\", \"Mutt\", \"Blue\")\n",
    "hank.eye_color"
   ]
  },
  {
   "cell_type": "markdown",
   "metadata": {},
   "source": [
    "##### The \\__init\\__() Method for a Child Class - super()"
   ]
  },
  {
   "cell_type": "code",
   "execution_count": 20,
   "metadata": {
    "scrolled": true
   },
   "outputs": [
    {
     "name": "stdout",
     "output_type": "stream",
     "text": [
      "Make some Generic Sound\n"
     ]
    }
   ],
   "source": [
    "class Yorkie(Dog):\n",
    "    def __init__(self, name, species, eye_color, legs = 4):\n",
    "        super().__init__(name, species, legs) # super() refers to the og or original class of \"Animal\"\n",
    "        self.eye_color = eye_color\n",
    "        \n",
    "Austin = Yorkie(\"austin\", \"yorkie\", \"brown\", 3)\n",
    "\n",
    "Austin.legs\n",
    "Austin.makeSound()"
   ]
  },
  {
   "cell_type": "markdown",
   "metadata": {},
   "source": [
    "##### Defining Attributes and Methods for the Child Class"
   ]
  },
  {
   "cell_type": "code",
   "execution_count": 21,
   "metadata": {},
   "outputs": [],
   "source": [
    "# See Above"
   ]
  },
  {
   "cell_type": "markdown",
   "metadata": {},
   "source": [
    "##### Method Overriding"
   ]
  },
  {
   "cell_type": "code",
   "execution_count": 22,
   "metadata": {},
   "outputs": [],
   "source": [
    "# See Above"
   ]
  },
  {
   "cell_type": "markdown",
   "metadata": {},
   "source": [
    "## Classes as Attributes <br>\n",
    "<p>Classes can also be used as attributes within another class. This is useful in situations where you need to keep variables locally stored, instead of globally stored.</p>"
   ]
  },
  {
   "cell_type": "code",
   "execution_count": 23,
   "metadata": {},
   "outputs": [
    {
     "name": "stdout",
     "output_type": "stream",
     "text": [
      "tesla\n",
      "16\n"
     ]
    }
   ],
   "source": [
    "class Battery:\n",
    "    volts = 7.8\n",
    "    \n",
    "    def __init__(self, cells):\n",
    "        self.cells = cells\n",
    "        \n",
    "class Car:\n",
    "    def __init__(self, make, battery):\n",
    "        self.make = make\n",
    "        self.battery = battery\n",
    "        \n",
    "batt = Battery(16)\n",
    "\n",
    "tesla = Car(\"tesla\", batt)\n",
    "\n",
    "print(tesla.make)\n",
    "print(tesla.battery.cells)"
   ]
  },
  {
   "cell_type": "markdown",
   "metadata": {},
   "source": [
    "# Exercises"
   ]
  },
  {
   "cell_type": "markdown",
   "metadata": {},
   "source": [
    "### Exercise 1 - Turn the shopping cart program from yesterday into an object-oriented program\n",
    "\n",
    "The comments in the cell below are there as a guide for thinking about the problem. However, if you feel a different way is best for you and your own thought process, please do what feels best for you by all means."
   ]
  },
  {
   "cell_type": "code",
   "execution_count": 48,
   "metadata": {},
   "outputs": [
    {
     "name": "stdout",
     "output_type": "stream",
     "text": [
      "Your current bag has a total of: 26 items\n"
     ]
    }
   ],
   "source": [
    "# Create a class called cart that retains items and has methods to add, remove, and show\n",
    "# add --> remove --> show --> quit\n",
    "class Cart():\n",
    "    def __init__(self, quantity, item):\n",
    "        self.item = item\n",
    "        self.quantity = quantity\n",
    "        \n",
    "    def Add(self):\n",
    "        product = input(\"What would you like to add? \") \n",
    "        self.item.append(product)\n",
    "        print(f'Your cart: {self.item}') \n",
    "# Testing Add function        \n",
    "# test1 = Cart(2,[])\n",
    "# test1.Add()    \n",
    "    \n",
    "    def Quantity(self):\n",
    "         print(f'This is how many items you have in your bag: {self.quantity}')\n",
    "            \n",
    "# Testing Quantity function\n",
    "# test1 = Cart(2,[])\n",
    "# print(test1.Quantity())  \n",
    "    \n",
    "    def ShowCart(self):\n",
    "        print(\"This is what you have in your cart: \")\n",
    "        for x in self.item:\n",
    "            print(x)\n",
    "            \n",
    "# Testing ShowCart function\n",
    "# target = Cart(2, ['apple', 'bacon', 'cheese'])\n",
    "# target.ShowCart()\n",
    "    \n",
    "        # Method to show capacity\n",
    "    def showQuantity(self):\n",
    "        print(f'Your current bag has a total of: {self.quantity} items')\n",
    "              \n",
    "# Testing showQuantity function\n",
    "# bag = Cart(2,[])\n",
    "# print(bag.showQuantity())\n",
    "    \n",
    "    def changeQuantity(self, quantity):\n",
    "        self.quantity = quantity\n",
    "\n",
    "# Testing changeQuantity function\n",
    "# target = Cart(2,[])\n",
    "# target.changeQuantity(10) \n",
    "# target.showQuantity()\n",
    "\n",
    "    def increaseQuantity(self, changed_qua = 1):\n",
    "        if isinstance(self.quantity, str): # isinstance checks for boolean value --> in this case, we are testing for true for a string data type\n",
    "            print(\"Can't do that here...\") # Because we cannot take in a string\n",
    "        else: # For integer\n",
    "            self.quantity += 1\n",
    "\n",
    "# Testing increaseQuantity function \n",
    "# test2 = Cart(2,[]) \n",
    "# test2.changeQuantity(25) \n",
    "# test2.increaseQuantity()\n",
    "# test2.showQuantity()\n",
    "    \n",
    "    \n",
    "    \n",
    "    \n",
    "    \n",
    "\n",
    "def shop():\n",
    "    target = Cart(2,[])\n",
    "    while True:\n",
    "        answer = input(\"What do you want to do? add/show/quit\")\n",
    "        if answer.lower() == \"quit\":\n",
    "            target.ShowCart()\n",
    "            print(\"Thank you for shopping at Target!\")\n",
    "            break\n",
    "        elif answer.lower() == \"add\":\n",
    "            target.Add()\n",
    "        elif answer.lower() == \"show\":\n",
    "            target.showCart()\n",
    "        else:\n",
    "            print(\"Not a valid input -- please retry\")\n",
    "            \n",
    "shop()\n"
   ]
  },
  {
   "cell_type": "markdown",
   "metadata": {},
   "source": [
    "### Exercise 2 - Write a Python class which has two methods get_String and print_String. get_String accept a string from the user and print_String print the string in upper case"
   ]
  },
  {
   "cell_type": "code",
   "execution_count": null,
   "metadata": {},
   "outputs": [],
   "source": [
    "class String():\n",
    "    def __init__(self, sentence):\n",
    "        self.sentence = sentence\n",
    "    \n",
    "    def get_String(self):\n",
    "        if isinstance(self.sentence, str):\n",
    "            print(\"This sentence has been accepted\")\n",
    "        else:\n",
    "            print(\"Please enter a valid sentence\")\n",
    "    \n",
    "    def print_String(self):\n",
    "        if isinstance(self.sentence, str):\n",
    "            print(self.sentence.upper())\n",
    "        else:\n",
    "            print(\"Please enter a valid sentence\")\n",
    "            \n",
    "            \n",
    "line1 = String(\"I want food\")     \n",
    "line1.get_String()\n",
    "line1.print_String()"
   ]
  },
  {
   "cell_type": "code",
   "execution_count": null,
   "metadata": {},
   "outputs": [],
   "source": []
  }
 ],
 "metadata": {
  "kernelspec": {
   "display_name": "Python 3",
   "language": "python",
   "name": "python3"
  },
  "language_info": {
   "codemirror_mode": {
    "name": "ipython",
    "version": 3
   },
   "file_extension": ".py",
   "mimetype": "text/x-python",
   "name": "python",
   "nbconvert_exporter": "python",
   "pygments_lexer": "ipython3",
   "version": "3.9.5"
  }
 },
 "nbformat": 4,
 "nbformat_minor": 2
}
